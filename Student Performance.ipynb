{
  "nbformat": 4,
  "nbformat_minor": 0,
  "metadata": {
    "colab": {
      "provenance": []
    },
    "kernelspec": {
      "name": "python3",
      "display_name": "Python 3"
    },
    "language_info": {
      "name": "python"
    }
  },
  "cells": [
    {
      "cell_type": "markdown",
      "source": [
        "**1. Import Libraries**"
      ],
      "metadata": {
        "id": "OnkFZQurbH5f"
      }
    },
    {
      "cell_type": "code",
      "source": [
        "import pandas as pd\n",
        "from sklearn.model_selection import train_test_split\n",
        "from sklearn.linear_model import LogisticRegression\n",
        "from sklearn.metrics import accuracy_score, confusion_matrix, classification_report\n",
        "from sklearn.preprocessing import StandardScaler"
      ],
      "metadata": {
        "id": "OKcpn55ve03Z"
      },
      "execution_count": null,
      "outputs": []
    },
    {
      "cell_type": "markdown",
      "source": [
        "**2. Load the Dataset**"
      ],
      "metadata": {
        "id": "tCkj31IjfPDC"
      }
    },
    {
      "cell_type": "code",
      "source": [
        "df = pd.read_csv('/StudentsPerformance.csv')\n"
      ],
      "metadata": {
        "id": "79Vtsd6DgSL7"
      },
      "execution_count": null,
      "outputs": []
    },
    {
      "cell_type": "markdown",
      "source": [
        "**3. Convert Categorical Value**"
      ],
      "metadata": {
        "id": "oPp1tmOVh8he"
      }
    },
    {
      "cell_type": "code",
      "source": [
        "df_dummies = pd.get_dummies(df,drop_first=True)"
      ],
      "metadata": {
        "id": "vnprLi7NiGSk"
      },
      "execution_count": null,
      "outputs": []
    },
    {
      "cell_type": "markdown",
      "source": [
        "**4. Define Target Variable**"
      ],
      "metadata": {
        "id": "9Uy30i5Oi6I_"
      }
    },
    {
      "cell_type": "code",
      "source": [
        "df_dummies['passed_math'] = (df['math score']>50).astype(int)"
      ],
      "metadata": {
        "id": "EeiGci1EjBvZ"
      },
      "execution_count": null,
      "outputs": []
    },
    {
      "cell_type": "markdown",
      "source": [
        "5. Select Features and Target Variable"
      ],
      "metadata": {
        "id": "KVaIkUFfjHPG"
      }
    },
    {
      "cell_type": "code",
      "source": [
        "x = df_dummies.drop(['math score', 'reading score', 'writing score', 'passed_math'],axis=1)\n",
        "y = df_dummies['passed_math']"
      ],
      "metadata": {
        "id": "yL6pobsPjSqC"
      },
      "execution_count": null,
      "outputs": []
    },
    {
      "cell_type": "markdown",
      "source": [
        "**6. Split the Data**"
      ],
      "metadata": {
        "id": "FuGSWHJSlANO"
      }
    },
    {
      "cell_type": "code",
      "source": [
        "x_train, x_test, y_train, y_test = train_test_split(x,y,test_size=0.2, random_state=42)"
      ],
      "metadata": {
        "id": "GDHQN12tlDoV"
      },
      "execution_count": null,
      "outputs": []
    },
    {
      "cell_type": "markdown",
      "source": [
        "**7. Standardize the feature**"
      ],
      "metadata": {
        "id": "-e33jle-lk4v"
      }
    },
    {
      "cell_type": "code",
      "source": [
        "scaler = StandardScaler()\n",
        "x_train_scaled = scaler.fit_transform(x_train)\n",
        "x_test_scaled = scaler.fit_transform(x_test)"
      ],
      "metadata": {
        "id": "j-q1RefklqGt"
      },
      "execution_count": null,
      "outputs": []
    },
    {
      "cell_type": "markdown",
      "source": [
        "8. Train the Logistic Regression"
      ],
      "metadata": {
        "id": "0y9zmr3amg3L"
      }
    },
    {
      "cell_type": "code",
      "source": [
        "model = LogisticRegression()\n",
        "model.fit(x_train_scaled,y_train)"
      ],
      "metadata": {
        "colab": {
          "base_uri": "https://localhost:8080/",
          "height": 159
        },
        "id": "fhZPC_iWmlj6",
        "outputId": "fcbf4eb1-45da-470f-d17c-6f4408cc9acd"
      },
      "execution_count": null,
      "outputs": [
        {
          "output_type": "error",
          "ename": "NameError",
          "evalue": "name 'LogisticRegression' is not defined",
          "traceback": [
            "\u001b[0;31m---------------------------------------------------------------------------\u001b[0m",
            "\u001b[0;31mNameError\u001b[0m                                 Traceback (most recent call last)",
            "\u001b[0;32m<ipython-input-1-97e6914d5af8>\u001b[0m in \u001b[0;36m<cell line: 1>\u001b[0;34m()\u001b[0m\n\u001b[0;32m----> 1\u001b[0;31m \u001b[0mmodel\u001b[0m \u001b[0;34m=\u001b[0m \u001b[0mLogisticRegression\u001b[0m\u001b[0;34m(\u001b[0m\u001b[0;34m)\u001b[0m\u001b[0;34m\u001b[0m\u001b[0;34m\u001b[0m\u001b[0m\n\u001b[0m\u001b[1;32m      2\u001b[0m \u001b[0mmodel\u001b[0m\u001b[0;34m.\u001b[0m\u001b[0mfit\u001b[0m\u001b[0;34m(\u001b[0m\u001b[0mx_train_scaled\u001b[0m\u001b[0;34m,\u001b[0m\u001b[0my_train\u001b[0m\u001b[0;34m)\u001b[0m\u001b[0;34m\u001b[0m\u001b[0;34m\u001b[0m\u001b[0m\n",
            "\u001b[0;31mNameError\u001b[0m: name 'LogisticRegression' is not defined"
          ]
        }
      ]
    },
    {
      "cell_type": "markdown",
      "source": [
        "**9. Prediction on the Test Set**"
      ],
      "metadata": {
        "id": "LOCb7VTtmyyP"
      }
    },
    {
      "cell_type": "code",
      "source": [
        "y_pred = model.predict(x_test_scaled)"
      ],
      "metadata": {
        "id": "0Pm0_C0ZnQTH"
      },
      "execution_count": null,
      "outputs": []
    },
    {
      "cell_type": "markdown",
      "source": [
        "**10. Evaluate the model**"
      ],
      "metadata": {
        "id": "1cnyR4e3nw4K"
      }
    },
    {
      "cell_type": "code",
      "source": [
        "accuracy = accuracy_score(y_test, y_pred)\n",
        "conf_matrix = confusion_matrix(y_test, y_pred)\n",
        "class_report = classification_report(y_test, y_pred)\n",
        "\n",
        "print(f\"Accuracy: {accuracy}\")\n",
        "print(\"condusion matrix: \")\n",
        "print(conf_matrix)\n",
        "print(\"classification report: \")\n",
        "print(class_report)"
      ],
      "metadata": {
        "colab": {
          "base_uri": "https://localhost:8080/"
        },
        "id": "rQPqvWMkn3Hx",
        "outputId": "cf9c054f-f257-43f7-d80a-4cc82d55ad9c"
      },
      "execution_count": null,
      "outputs": [
        {
          "output_type": "stream",
          "name": "stdout",
          "text": [
            "Accuracy: 0.82\n",
            "condusion matrix: \n",
            "[[  3  33]\n",
            " [  3 161]]\n",
            "classification report: \n",
            "              precision    recall  f1-score   support\n",
            "\n",
            "           0       0.50      0.08      0.14        36\n",
            "           1       0.83      0.98      0.90       164\n",
            "\n",
            "    accuracy                           0.82       200\n",
            "   macro avg       0.66      0.53      0.52       200\n",
            "weighted avg       0.77      0.82      0.76       200\n",
            "\n"
          ]
        }
      ]
    }
  ]
}